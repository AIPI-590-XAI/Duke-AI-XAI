{
  "nbformat": 4,
  "nbformat_minor": 0,
  "metadata": {
    "colab": {
      "provenance": []
    },
    "kernelspec": {
      "name": "python3",
      "display_name": "Python 3"
    },
    "language_info": {
      "name": "python"
    }
  },
  "cells": [
    {
      "cell_type": "markdown",
      "source": [
        "[![Open In Collab](https://colab.research.google.com/assets/colab-badge.svg)](https://colab.research.google.com/github/AIPI-590-XAI/Duke-AI-XAI/blob/main/assignments/mechanistic_interp_starter.ipynb)\n",
        "\n",
        "# Example Notebook for Mechanistic Interpretability Assignment\n",
        "\n",
        "Use this notebook as starter code for your Mechanistic Interpretability assignment. You should build your own tiny model on a tiny problem.\n",
        "\n",
        "This could be:\n",
        "\n",
        "* Counting 1s in binary strings (like shown here)\n",
        "\n",
        "* Reversing short character sequences\n",
        "\n",
        "* XOR or parity classification\n",
        "\n",
        "* Or any other toy task you design yourself!\n",
        "\n",
        "\n",
        "**Methods shown in this notebook:**\n",
        "* Training a small MLP to solve a regression task (predicting the count of 1s)\n",
        "\n",
        "* Visualizing hidden layer activations averaged by input type (number of 1s)\n",
        "\n",
        "* Performing neuron ablation (zeroing hidden neurons) to test their functional role\n",
        "\n",
        "* Visualizing the effect of individual neurons on the model’s output\n",
        "\n",
        "**Additional methods you can try for your problem:**\n",
        "* Inspecting activations for specific inputs (not just averaged)\n",
        "\n",
        "* Plotting neuron selectivity curves (activation vs. input feature)\n",
        "\n",
        "* Visualizing weight matrices to find interpretable patterns\n",
        "\n",
        "* Perturbing inputs (e.g., flipping bits) to observe model robustness\n",
        "\n",
        "* Comparing intermediate representations across training checkpoints"
      ],
      "metadata": {
        "id": "nw5uQnGcBeak"
      }
    },
    {
      "cell_type": "code",
      "source": [
        "import torch\n",
        "import torch.nn as nn\n",
        "import torch.nn.functional as F\n",
        "import matplotlib.pyplot as plt\n",
        "import random\n",
        "import numpy as np"
      ],
      "metadata": {
        "id": "ho3hsFc0CLYv"
      },
      "execution_count": 1,
      "outputs": []
    },
    {
      "cell_type": "markdown",
      "source": [
        "### Data Generation"
      ],
      "metadata": {
        "id": "pIzmdBdGCN0q"
      }
    },
    {
      "cell_type": "code",
      "source": [
        "def generate_binary_data(n_samples=10000, seq_length=8):\n",
        "    X = []\n",
        "    y = []\n",
        "    for _ in range(n_samples):\n",
        "        binary_str = [random.choice([0, 1]) for _ in range(seq_length)]\n",
        "        label = sum(binary_str)\n",
        "        X.append(binary_str)\n",
        "        y.append(label)\n",
        "    return torch.tensor(X, dtype=torch.float32), torch.tensor(y, dtype=torch.long)\n",
        "\n",
        "seq_length = 8\n",
        "n_classes = seq_length + 1\n",
        "X_train, y_train = generate_binary_data(2000, seq_length)\n",
        "X_val, y_val = generate_binary_data(500, seq_length)"
      ],
      "metadata": {
        "id": "xj3f7FGPCQkf"
      },
      "execution_count": 2,
      "outputs": []
    },
    {
      "cell_type": "markdown",
      "source": [
        "### Build a Tiny MLP (multilayer perceptron) Model"
      ],
      "metadata": {
        "id": "qL9twmqeCRL7"
      }
    },
    {
      "cell_type": "code",
      "source": [
        "import torch\n",
        "import torch.nn as nn\n",
        "import torch.nn.functional as F\n",
        "import matplotlib.pyplot as plt\n",
        "\n",
        "# Updated Model for Regression\n",
        "class CountingMLP(nn.Module):\n",
        "    def __init__(self, input_dim, hidden_dim):\n",
        "        super().__init__()\n",
        "        self.fc1 = nn.Linear(input_dim, hidden_dim)\n",
        "        self.fc2 = nn.Linear(hidden_dim, 1)  # Output is a single scalar\n",
        "\n",
        "    def forward(self, x):\n",
        "        h = F.relu(self.fc1(x))\n",
        "        out = self.fc2(h)\n",
        "        return out, h  # for interpretability\n",
        "\n",
        "# Instantiate model\n",
        "model = CountingMLP(input_dim=seq_length, hidden_dim=10)\n",
        "print(model)\n",
        "\n",
        "# Convert targets to float (regression labels)\n",
        "y_train_reg = y_train.float().unsqueeze(1)\n",
        "y_val_reg = y_val.float().unsqueeze(1)\n",
        "\n",
        "# Training loop with MSE loss\n",
        "optimizer = torch.optim.Adam(model.parameters(), lr=0.01)\n",
        "criterion = nn.MSELoss()\n",
        "\n",
        "losses = []\n",
        "for epoch in range(100):\n",
        "    model.train()\n",
        "    out, _ = model(X_train)\n",
        "    loss = criterion(out, y_train_reg)\n",
        "\n",
        "    optimizer.zero_grad()\n",
        "    loss.backward()\n",
        "    optimizer.step()\n",
        "    losses.append(loss.item())\n",
        "\n",
        "print(\"Final training loss:\", losses[-1])\n",
        "\n",
        "# Evaluation: Mean Absolute Error + Rounded Accuracy\n",
        "model.eval()\n",
        "with torch.no_grad():\n",
        "    preds, _ = model(X_val)\n",
        "    mae = torch.abs(preds - y_val_reg).mean().item()\n",
        "    rounded_preds = torch.round(preds).squeeze().long()\n",
        "    accuracy = (rounded_preds == y_val).float().mean().item()\n",
        "\n",
        "print(f\"Validation MAE: {mae:.2f}\")\n",
        "print(f\"Rounded Accuracy: {accuracy:.2f}\")\n"
      ],
      "metadata": {
        "colab": {
          "base_uri": "https://localhost:8080/"
        },
        "id": "NVlI54ibCbaf",
        "outputId": "8539a00a-cdfa-4ff9-9685-9a8fc70d5e1a"
      },
      "execution_count": 3,
      "outputs": [
        {
          "output_type": "stream",
          "name": "stdout",
          "text": [
            "CountingMLP(\n",
            "  (fc1): Linear(in_features=8, out_features=10, bias=True)\n",
            "  (fc2): Linear(in_features=10, out_features=1, bias=True)\n",
            ")\n",
            "Final training loss: 0.12343248724937439\n",
            "Validation MAE: 0.28\n",
            "Rounded Accuracy: 0.83\n"
          ]
        }
      ]
    },
    {
      "cell_type": "markdown",
      "source": [
        "### Print Activations of a sample input"
      ],
      "metadata": {
        "id": "13mAiuq4CkXu"
      }
    },
    {
      "cell_type": "code",
      "execution_count": 4,
      "metadata": {
        "colab": {
          "base_uri": "https://localhost:8080/"
        },
        "id": "ukiy5-iS_96x",
        "outputId": "4bddcd12-5fff-44a4-ac4b-15884a00b5e5"
      },
      "outputs": [
        {
          "output_type": "stream",
          "name": "stdout",
          "text": [
            "Sample Input: tensor([[1., 0., 1., 0., 1., 1., 0., 0.]])\n",
            "Hidden Layer Activations: tensor([[2.2580, 0.0000, 0.0000, 0.0000, 0.2068, 0.4226, 0.2810, 2.1187, 2.2822,\n",
            "         0.0000]])\n",
            "Output Logits: tensor([[4.1092]])\n",
            "Rounded Prediction: 4\n"
          ]
        }
      ],
      "source": [
        "with torch.no_grad():\n",
        "    sample_input = torch.tensor([[1, 0, 1, 0, 1, 1, 0, 0]], dtype=torch.float32)\n",
        "    logits, hidden = model(sample_input)\n",
        "\n",
        "print(f\"Sample Input: {sample_input}\")\n",
        "print(f\"Hidden Layer Activations: {hidden}\")\n",
        "print(f\"Output Logits: {logits}\")\n",
        "rounded = round(logits.item())\n",
        "print(f\"Rounded Prediction: {rounded}\")\n"
      ]
    },
    {
      "cell_type": "markdown",
      "source": [
        "### Plot hidden activations across different numbers of 1s as input"
      ],
      "metadata": {
        "id": "8WfTvPinCv6C"
      }
    },
    {
      "cell_type": "code",
      "source": [
        "counts = list(range(n_classes))\n",
        "avg_activations = torch.zeros((n_classes, 10))\n",
        "\n",
        "for c in counts:\n",
        "    class_inputs = X_val[y_val == c]\n",
        "    if class_inputs.shape[0] > 0:\n",
        "        _, h = model(class_inputs)\n",
        "        avg_activations[c] = h.mean(dim=0)\n",
        "\n",
        "plt.figure(figsize=(10, 6))\n",
        "activations_np = avg_activations.T.detach().numpy()\n",
        "plt.imshow(activations_np, aspect='auto', cmap='viridis')\n",
        "plt.xlabel(\"Number of 1s in Input\")\n",
        "plt.ylabel(\"Hidden Neurons\")\n",
        "plt.title(\"Average Activation per Hidden Neuron by Count\")\n",
        "plt.colorbar()\n",
        "plt.show()"
      ],
      "metadata": {
        "colab": {
          "base_uri": "https://localhost:8080/",
          "height": 564
        },
        "id": "OVxzM-kPAS-R",
        "outputId": "3d80ee60-b297-4368-b8e7-f0fcb63b26b9"
      },
      "execution_count": 5,
      "outputs": [
        {
          "output_type": "display_data",
          "data": {
            "text/plain": [
              "<Figure size 1000x600 with 2 Axes>"
            ],
            "image/png": "[encoded data removed]"
          },
          "metadata": {}
        }
      ]
    },
    {
      "cell_type": "markdown",
      "source": [
        "#### **What does this plot show us?**\n",
        "\n",
        "##### *Neuron Specialization*\n",
        "Look for rows (neurons) that are brightest at specific counts.\n",
        "\n",
        "If a neuron appears consistently dark, that could mean it is unused or suppressed.\n",
        "\n",
        "##### *Monotonic Trends*\n",
        "If neurons show a gradual increase in activation with count — they may be learning a linear or thresholded count pattern.\n",
        "\n",
        "That’s a great example of linearly increasing features often discussed in mechanistic interpretability (e.g. linear probe-ability).\n",
        "\n",
        "##### *Redundant or Silent Units*\n",
        "Some neurons may appear flatlined which possibly means they are unused due to redundancy. *What happens if you remove the neuron entirely?*\n",
        "\n",
        "##### *Activation Superposition*\n",
        "Some neurons activate across a range of counts, possibly blending multiple input features — this ties into superposition theory (see: Toy Models of Superposition)\n",
        "\n",
        "_____________________"
      ],
      "metadata": {
        "id": "D0puB8G1Frlb"
      }
    },
    {
      "cell_type": "markdown",
      "source": [
        "### Neuron Ablation (single neuron)"
      ],
      "metadata": {
        "id": "4HXLqBPRFFgW"
      }
    },
    {
      "cell_type": "code",
      "source": [
        "# Sample input to test\n",
        "test_input = torch.tensor([[1, 0, 1, 1, 0, 0, 1, 0]], dtype=torch.float32)  # Example: 4 ones\n",
        "true_count = int(test_input.sum().item())\n",
        "\n",
        "# Baseline prediction\n",
        "model.eval()\n",
        "with torch.no_grad():\n",
        "    baseline_output, _ = model(test_input)\n",
        "    baseline_pred = baseline_output.item()\n",
        "\n",
        "# Zero out one neuron in the hidden layer (e.g., neuron 3)\n",
        "neuron_to_zero = 3\n",
        "\n",
        "# Manually run forward pass with neuron ablated\n",
        "with torch.no_grad():\n",
        "    h = F.relu(model.fc1(test_input))\n",
        "    h[:, neuron_to_zero] = 0  # zeroing neuron\n",
        "    modified_output = model.fc2(h)\n",
        "    modified_pred = modified_output.item()\n",
        "\n",
        "\n",
        "print(f\"True count: {true_count}\")\n",
        "print(f\"Prediction (normal): {baseline_pred:.2f}\")\n",
        "print(f\"Prediction (with neuron {neuron_to_zero} zeroed): {modified_pred:.2f}\")\n",
        "\n",
        "delta = modified_pred - baseline_pred\n",
        "if delta > 0:\n",
        "    print(f\"➕ Prediction increased by {delta:.2f}\")\n",
        "elif delta < 0:\n",
        "    print(f\"➖ Prediction decreased by {abs(delta):.2f}\")\n",
        "else:\n",
        "    print(\"⚖️ No change in prediction\")\n"
      ],
      "metadata": {
        "colab": {
          "base_uri": "https://localhost:8080/"
        },
        "id": "MSxY0h-BBQMK",
        "outputId": "d6a66b2c-2ad7-4f44-c94c-1c3148aa45a8"
      },
      "execution_count": 6,
      "outputs": [
        {
          "output_type": "stream",
          "name": "stdout",
          "text": [
            "True count: 4\n",
            "Prediction (normal): 4.24\n",
            "Prediction (with neuron 3 zeroed): 4.24\n",
            "⚖️ No change in prediction\n"
          ]
        }
      ]
    },
    {
      "cell_type": "markdown",
      "source": [
        "#### **What does the ablation tell us?**\n",
        "\n",
        "If the prediction changes significantly after zeroing out a neuron, that neuron likely plays an important functional role in the model’s decision!"
      ],
      "metadata": {
        "id": "EcUgRnPhGkzj"
      }
    },
    {
      "cell_type": "markdown",
      "source": [
        "### Neuron Ablation (sweep of neurons)"
      ],
      "metadata": {
        "id": "r9a6TAe-FlFo"
      }
    },
    {
      "cell_type": "code",
      "source": [
        "# Sample input to test\n",
        "test_input = torch.tensor([[1, 0, 1, 1, 0, 0, 1, 0]], dtype=torch.float32)\n",
        "true_count = int(test_input.sum().item())\n",
        "\n",
        "# Baseline prediction\n",
        "model.eval()\n",
        "with torch.no_grad():\n",
        "    baseline_output, _ = model(test_input)\n",
        "    baseline_pred = baseline_output.item()\n",
        "\n",
        "print(f\"🧾 True count: {true_count}, Baseline prediction: {baseline_pred:.2f}\")\n",
        "\n",
        "# Sweep: get signed change in scalar prediction\n",
        "neuron_indices = list(range(model.fc1.out_features))\n",
        "signed_deltas = []\n",
        "\n",
        "for i in neuron_indices:\n",
        "    with torch.no_grad():\n",
        "        h = F.relu(model.fc1(test_input))\n",
        "        h[:, i] = 0  # zero out neuron i\n",
        "        mod_output = model.fc2(h)\n",
        "        mod_pred = mod_output.item()\n",
        "        signed_deltas.append(mod_pred - baseline_pred)\n",
        "\n",
        "# Plotting signed prediction change per neuron\n",
        "plt.figure(figsize=(10, 5))\n",
        "colors = ['green' if d < 0 else 'red' if d > 0 else 'gray' for d in signed_deltas]\n",
        "\n",
        "plt.bar(neuron_indices, signed_deltas, color=colors)\n",
        "plt.axhline(0, color='black', linestyle='--')\n",
        "plt.xticks(neuron_indices)\n",
        "plt.xlabel(\"Neuron Index\")\n",
        "plt.ylabel(\"Prediction Change (Modified - Original)\")\n",
        "plt.title(\"Effect of Zeroing Hidden Neurons on Predicted Count\")\n",
        "plt.grid(True)\n",
        "\n",
        "# Annotatation\n",
        "for i, d in enumerate(signed_deltas):\n",
        "    if abs(d) > 1e-3:\n",
        "        plt.text(i, d + (0.2 if d > 0 else -0.4), f\"{d:+.2f}\",\n",
        "                 ha='center', va='bottom' if d > 0 else 'top')\n",
        "\n",
        "plt.show()\n",
        "\n",
        "# Summary\n",
        "for i, d in enumerate(signed_deltas):\n",
        "    if abs(d) > 1e-3:\n",
        "        direction = \"increased\" if d > 0 else \"decreased\"\n",
        "        print(f\"Neuron {i} → Prediction {direction} by {abs(d):.2f}\")\n"
      ],
      "metadata": {
        "colab": {
          "base_uri": "https://localhost:8080/",
          "height": 603
        },
        "id": "_J8f_BPkC3co",
        "outputId": "dce0658e-d2d0-4716-fcbd-0d45a9079ab6"
      },
      "execution_count": 7,
      "outputs": [
        {
          "output_type": "stream",
          "name": "stdout",
          "text": [
            "🧾 True count: 4, Baseline prediction: 4.24\n"
          ]
        },
        {
          "output_type": "display_data",
          "data": {
            "text/plain": [
              "<Figure size 1000x500 with 1 Axes>"
            ],
            "image/png": "[encoded data removed]"
          },
          "metadata": {}
        },
        {
          "output_type": "stream",
          "name": "stdout",
          "text": [
            "Neuron 0 → Prediction decreased by 1.16\n",
            "Neuron 5 → Prediction decreased by 0.25\n",
            "Neuron 7 → Prediction decreased by 0.85\n",
            "Neuron 8 → Prediction decreased by 1.92\n"
          ]
        }
      ]
    },
    {
      "cell_type": "markdown",
      "source": [
        "#### **What does the sweep of neuron ablations tell us?**\n",
        "\n",
        "Which neurons had the most impact on predictions?\n",
        "\n",
        "Are there redundant neurons (zeroing them causes no change)?"
      ],
      "metadata": {
        "id": "UYLx9tLBGuUq"
      }
    }
  ]
}