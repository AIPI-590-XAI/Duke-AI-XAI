{
  "cells": [
    {
      "cell_type": "markdown",
      "id": "dfa6cc37",
      "metadata": {
        "id": "dfa6cc37"
      },
      "source": [
        "[![Open In Collab](https://colab.research.google.com/assets/colab-badge.svg)](https://colab.research.google.com/github/AIPI-590-XAI/Duke-AI-XAI/blob/main/assignments/machine_learning_court.ipynb)\n",
        "\n",
        "# 👩‍⚖️ ⚖️ Machine Learning Court\n",
        "\n",
        "This notebook provides base model training code for our three case scenarios:\n",
        "1. **Loan Approval**\n",
        "2. **Breast Cancer Misclassification**\n",
        "3. **Recidivism Prediction**\n",
        "\n",
        "> ⚠️ This notebook does **not** include XAI techniques (SHAP, LIME, Anchors). You are expected to implement those yourself based on the model and prediction tasks below.\n",
        "\n",
        "\n",
        "\n"
      ]
    },
    {
      "cell_type": "markdown",
      "source": [
        "## ⚖️ Case 1: Loan Denial Dispute – UCI Adult Income Dataset\n",
        "#### 🔍 Scenario\n",
        "\n",
        "Jane Dow, a 37-year-old professional woman with a Bachelor's degree and full-time executive role, applied for a premium credit product. The bank’s model—trained to predict income level as a proxy for eligibility—classified her as earning ≤$50K, resulting in denial. She disputes the fairness of the decision.\n",
        "\n",
        "#### 🟥 Prosecution\n",
        "Evaluate whether the model’s decision may have been influenced by inappropriate or unfair reasoning. Explore whether the explanation aligns with what should be expected in a fair credit decision.\n",
        "\n",
        "#### 🟦 Defense\n",
        "Justify the decision based on the model’s learned patterns. Consider how well the explanation supports the classification and whether similar profiles are treated consistently."
      ],
      "metadata": {
        "id": "MN2ts4xtQ6ts"
      },
      "id": "MN2ts4xtQ6ts"
    },
    {
      "cell_type": "code",
      "execution_count": 13,
      "id": "d3fbadd3",
      "metadata": {
        "colab": {
          "base_uri": "https://localhost:8080/"
        },
        "id": "d3fbadd3",
        "outputId": "cd400772-86b4-4efd-ecc1-1315911e92b7"
      },
      "outputs": [
        {
          "output_type": "stream",
          "name": "stdout",
          "text": [
            "              precision    recall  f1-score   support\n",
            "\n",
            "           0       1.00      1.00      1.00      9045\n",
            "\n",
            "    accuracy                           1.00      9045\n",
            "   macro avg       1.00      1.00      1.00      9045\n",
            "weighted avg       1.00      1.00      1.00      9045\n",
            "\n"
          ]
        }
      ],
      "source": [
        "# 📦 Case 1: Loan Approval Prediction (Adult Income Dataset)\n",
        "\n",
        "import pandas as pd\n",
        "from sklearn.model_selection import train_test_split\n",
        "from sklearn.preprocessing import LabelEncoder\n",
        "from sklearn.ensemble import RandomForestClassifier\n",
        "from sklearn.metrics import classification_report\n",
        "\n",
        "# Load Data\n",
        "from sklearn.datasets import fetch_openml\n",
        "adult = fetch_openml(name='adult', version=2, as_frame=True)\n",
        "df = adult.frame\n",
        "\n",
        "# Clean and preprocess\n",
        "df = df.dropna()\n",
        "df = df.copy()\n",
        "encoders = {}\n",
        "label_cols = df.select_dtypes(include='category').columns.tolist()\n",
        "\n",
        "for col in label_cols:\n",
        "    le = LabelEncoder()\n",
        "    df[col] = df[col].astype(str)\n",
        "    df[col] = le.fit_transform(df[col])\n",
        "    encoders[col] = le\n",
        "\n",
        "X = df.drop([\"class\", \"fnlwgt\"], axis=1)\n",
        "y = df[\"class\"].apply(lambda x: 1 if x == '>50K' else 0)\n",
        "\n",
        "X_train, X_test, y_train, y_test = train_test_split(X, y, test_size=0.2, random_state=42)\n",
        "\n",
        "# Train simple RF model\n",
        "model_adult = RandomForestClassifier(random_state=42)\n",
        "model_adult.fit(X_train, y_train)\n",
        "print(classification_report(y_test, model_adult.predict(X_test)))\n"
      ]
    },
    {
      "cell_type": "code",
      "execution_count": 14,
      "id": "9a5c7c2c",
      "metadata": {
        "colab": {
          "base_uri": "https://localhost:8080/"
        },
        "id": "9a5c7c2c",
        "outputId": "1159b2cc-636a-41a7-ef2f-16e5f8631cc8"
      },
      "outputs": [
        {
          "output_type": "stream",
          "name": "stdout",
          "text": [
            "Prediction for Jane Dow (Loan Eligibility): Denied\n"
          ]
        }
      ],
      "source": [
        "# 🎯 Focus Instance: Loan Rejection Case (Jane Dow)\n",
        "\n",
        "jane_encoded = {\n",
        "    'age': 37,\n",
        "    'workclass': encoders['workclass'].transform(['Private'])[0],\n",
        "    'education': encoders['education'].transform(['Bachelors'])[0],\n",
        "    'marital-status': encoders['marital-status'].transform(['Never-married'])[0],\n",
        "    'occupation': encoders['occupation'].transform(['Exec-managerial'])[0],\n",
        "    'relationship': encoders['relationship'].transform(['Not-in-family'])[0],\n",
        "    'race': encoders['race'].transform(['White'])[0],\n",
        "    'sex': encoders['sex'].transform(['Female'])[0],\n",
        "    'hours-per-week': 50,\n",
        "    'native-country': encoders['native-country'].transform(['United-States'])[0],\n",
        "    'capital-gain': 0,\n",
        "    'capital-loss': 0,\n",
        "    'education-num': 13,\n",
        "}\n",
        "\n",
        "jane_df = pd.DataFrame([jane_encoded])\n",
        "jane_df = jane_df[X_train.columns]\n",
        "pred = model_adult.predict(jane_df)\n",
        "print(\"Prediction for Jane Dow (Loan Eligibility):\", \"Approved\" if pred[0] == 1 else \"Denied\")\n"
      ]
    },
    {
      "cell_type": "markdown",
      "source": [
        "## 🩺 Case 2: Tumor Misclassification – Breast Cancer Dataset\n",
        "#### 🔍 Scenario\n",
        "Patient X received a benign classification from an AI tumor diagnostic tool and was not referred for a biopsy. Months later, the tumor was diagnosed as malignant. The model’s output is now under scrutiny.\n",
        "\n",
        "#### 🟥 Prosecution\n",
        "Use explanation tools to evaluate how the model arrived at this decision. Consider whether any key medical indicators might have been overlooked or minimized.\n",
        "\n",
        "#### 🟦 Defense\n",
        "Defend the decision with reference to the model’s logic and learned feature importance. Consider how this decision aligns with the broader data trends."
      ],
      "metadata": {
        "id": "f5zjOjt2Rfeq"
      },
      "id": "f5zjOjt2Rfeq"
    },
    {
      "cell_type": "code",
      "execution_count": 4,
      "id": "cb573d7e",
      "metadata": {
        "colab": {
          "base_uri": "https://localhost:8080/"
        },
        "id": "cb573d7e",
        "outputId": "30a92ac2-f73f-4c3c-f359-dd24ee4e568f"
      },
      "outputs": [
        {
          "output_type": "stream",
          "name": "stdout",
          "text": [
            "              precision    recall  f1-score   support\n",
            "\n",
            "           0       0.98      0.93      0.95        43\n",
            "           1       0.96      0.99      0.97        71\n",
            "\n",
            "    accuracy                           0.96       114\n",
            "   macro avg       0.97      0.96      0.96       114\n",
            "weighted avg       0.97      0.96      0.96       114\n",
            "\n"
          ]
        }
      ],
      "source": [
        "# 🧬 Case 2: Tumor Misclassification (Breast Cancer Dataset)\n",
        "from sklearn.datasets import load_breast_cancer\n",
        "from sklearn.ensemble import RandomForestClassifier\n",
        "from sklearn.model_selection import train_test_split\n",
        "from sklearn.metrics import classification_report\n",
        "import pandas as pd\n",
        "\n",
        "# Load dataset\n",
        "data = load_breast_cancer()\n",
        "df_bc = pd.DataFrame(data.data, columns=data.feature_names)\n",
        "df_bc['target'] = data.target  # 0 = malignant, 1 = benign\n",
        "\n",
        "# Train/test split\n",
        "X = df_bc.drop(\"target\", axis=1)\n",
        "y = df_bc[\"target\"]\n",
        "X_train, X_test, y_train, y_test = train_test_split(X, y, test_size=0.2, random_state=42)\n",
        "\n",
        "# Train model\n",
        "model_bc = RandomForestClassifier(random_state=42)\n",
        "model_bc.fit(X_train, y_train)\n",
        "print(classification_report(y_test, model_bc.predict(X_test)))"
      ]
    },
    {
      "cell_type": "code",
      "execution_count": 5,
      "id": "d7cd05f4",
      "metadata": {
        "colab": {
          "base_uri": "https://localhost:8080/"
        },
        "id": "d7cd05f4",
        "outputId": "3d395024-8cd1-4366-e8f7-0a374b3fa630"
      },
      "outputs": [
        {
          "output_type": "stream",
          "name": "stdout",
          "text": [
            "Prediction for Patient X: Benign → No Biopsy\n"
          ]
        }
      ],
      "source": [
        "# 🧬 Focus Instance (Tumor Misclassification - Patient X)\n",
        "focus_instance_bc = pd.DataFrame([{\n",
        "    \"mean radius\": 13.80,\n",
        "    \"mean texture\": 15.79,\n",
        "    \"mean perimeter\": 90.43,\n",
        "    \"mean area\": 584.1,\n",
        "    \"mean smoothness\": 0.1007,\n",
        "    \"mean compactness\": 0.1280,\n",
        "    \"mean concavity\": 0.07789,\n",
        "    \"mean concave points\": 0.05069,\n",
        "    \"mean symmetry\": 0.1662,\n",
        "    \"mean fractal dimension\": 0.06566,\n",
        "    \"radius error\": 0.4101,\n",
        "    \"texture error\": 1.074,\n",
        "    \"perimeter error\": 2.635,\n",
        "    \"area error\": 40.14,\n",
        "    \"smoothness error\": 0.00541,\n",
        "    \"compactness error\": 0.02204,\n",
        "    \"concavity error\": 0.01664,\n",
        "    \"concave points error\": 0.01185,\n",
        "    \"symmetry error\": 0.02095,\n",
        "    \"fractal dimension error\": 0.004902,\n",
        "    \"worst radius\": 16.57,\n",
        "    \"worst texture\": 20.86,\n",
        "    \"worst perimeter\": 110.3,\n",
        "    \"worst area\": 812.4,\n",
        "    \"worst smoothness\": 0.1411,\n",
        "    \"worst compactness\": 0.3542,\n",
        "    \"worst concavity\": 0.2779,\n",
        "    \"worst concave points\": 0.1383,\n",
        "    \"worst symmetry\": 0.2589,\n",
        "    \"worst fractal dimension\": 0.1030\n",
        "}])\n",
        "\n",
        "# Run prediction\n",
        "pred = model_bc.predict(focus_instance_bc)\n",
        "print(\"Prediction for Patient X:\", \"Benign → No Biopsy\" if pred[0] == 1 else \"Malignant → Action Needed\")\n"
      ]
    },
    {
      "cell_type": "markdown",
      "source": [
        "## ⚖️ Case 3: Recidivism Risk – COMPAS Dataset\n",
        "#### 🔍 Scenario\n",
        "Malik Johnson, a 27-year-old with one prior felony, was flagged as low risk by an AI risk assessment tool and granted parole. Some community stakeholders have questioned whether this was an appropriate classification.\n",
        "\n",
        "#### 🟥 Prosecution\n",
        "Examine whether the model may have underestimated risk factors. Use explanation techniques to uncover potential oversights or inconsistencies.\n",
        "\n",
        "#### 🟦 Defense\n",
        "Argue that the decision was reasonable based on the model's criteria. Use explanation tools to show which features were most influential and whether the classification aligns with data-driven patterns."
      ],
      "metadata": {
        "id": "7yiVRowlRzxz"
      },
      "id": "7yiVRowlRzxz"
    },
    {
      "cell_type": "code",
      "execution_count": 6,
      "id": "40c14573",
      "metadata": {
        "colab": {
          "base_uri": "https://localhost:8080/"
        },
        "id": "40c14573",
        "outputId": "f81c8826-dfae-4d4e-ec43-a6df8920600a"
      },
      "outputs": [
        {
          "output_type": "stream",
          "name": "stdout",
          "text": [
            "              precision    recall  f1-score   support\n",
            "\n",
            "           0       0.68      0.68      0.68       823\n",
            "           1       0.57      0.57      0.57       620\n",
            "\n",
            "    accuracy                           0.63      1443\n",
            "   macro avg       0.62      0.62      0.62      1443\n",
            "weighted avg       0.63      0.63      0.63      1443\n",
            "\n"
          ]
        }
      ],
      "source": [
        "# ⚖️ Case 3: Recidivism Prediction (COMPAS Dataset)\n",
        "\n",
        "import pandas as pd\n",
        "import numpy as np\n",
        "from sklearn.model_selection import train_test_split\n",
        "from sklearn.ensemble import RandomForestClassifier\n",
        "from sklearn.metrics import classification_report\n",
        "\n",
        "# Load dataset\n",
        "url = \"https://raw.githubusercontent.com/propublica/compas-analysis/master/compas-scores-two-years.csv\"\n",
        "df_compas = pd.read_csv(url)\n",
        "\n",
        "# Filter relevant columns and preprocess\n",
        "features = ['age', 'sex', 'race', 'priors_count', 'juv_fel_count', 'juv_misd_count', 'juv_other_count', 'c_charge_degree']\n",
        "df = df_compas[features + ['two_year_recid']].dropna()\n",
        "df = df[df['c_charge_degree'].isin(['F', 'M'])]  # Filter valid degrees\n",
        "\n",
        "# Encode categoricals\n",
        "df = df.copy()\n",
        "df['sex'] = df['sex'].astype('category').cat.codes\n",
        "df['race'] = df['race'].astype('category').cat.codes\n",
        "df['c_charge_degree'] = df['c_charge_degree'].astype('category').cat.codes\n",
        "\n",
        "X = df[features]\n",
        "y = df['two_year_recid']\n",
        "\n",
        "X_train, X_test, y_train, y_test = train_test_split(X, y, test_size=0.2, random_state=42)\n",
        "\n",
        "model_compas = RandomForestClassifier(random_state=42)\n",
        "model_compas.fit(X_train, y_train)\n",
        "print(classification_report(y_test, model_compas.predict(X_test)))\n"
      ]
    },
    {
      "cell_type": "code",
      "execution_count": 7,
      "id": "fc902cdf",
      "metadata": {
        "colab": {
          "base_uri": "https://localhost:8080/"
        },
        "id": "fc902cdf",
        "outputId": "6a1da0dc-4ea4-47b3-e228-e20ebe341600"
      },
      "outputs": [
        {
          "output_type": "stream",
          "name": "stdout",
          "text": [
            "Prediction for Malik Johnson (Recidivism): [0]\n"
          ]
        }
      ],
      "source": [
        "# 🎯 Focus Instance: Recidivism Risk Case (Malik Johnson)\n",
        "focus_instance_compas = pd.DataFrame([{\n",
        "    \"age\": 27,\n",
        "    \"sex\": 1,  # Male\n",
        "    \"race\": 1,  # African-American\n",
        "    \"priors_count\": 1,\n",
        "    \"juv_fel_count\": 0,\n",
        "    \"juv_misd_count\": 0,\n",
        "    \"juv_other_count\": 0,\n",
        "    \"c_charge_degree\": 1  # Felony\n",
        "}])\n",
        "\n",
        "pred = model_compas.predict(focus_instance_compas)\n",
        "print(\"Prediction for Malik Johnson (Recidivism):\", pred)\n"
      ]
    }
  ],
  "metadata": {
    "colab": {
      "provenance": []
    },
    "language_info": {
      "name": "python"
    },
    "kernelspec": {
      "name": "python3",
      "display_name": "Python 3"
    }
  },
  "nbformat": 4,
  "nbformat_minor": 5
}